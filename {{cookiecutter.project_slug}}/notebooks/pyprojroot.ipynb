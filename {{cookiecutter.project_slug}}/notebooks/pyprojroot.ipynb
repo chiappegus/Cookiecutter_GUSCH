{
 "cells": [
  {
   "cell_type": "code",
   "execution_count": 1,
   "metadata": {},
   "outputs": [],
   "source": [
    "import pyprojroot \n"
   ]
  },
  {
   "cell_type": "code",
   "execution_count": 4,
   "metadata": {},
   "outputs": [
    {
     "data": {
      "text/plain": [
       "WindowsPath('c:/Users/elloc/Desktop/Platzi_Cookiecutter/data/raw')"
      ]
     },
     "execution_count": 4,
     "metadata": {},
     "output_type": "execute_result"
    }
   ],
   "source": [
    "#pyprojroot.here()\n",
    "#WindowsPath('c:/Users/elloc/Desktop/Platzi_Cookiecutter')\n",
    "pyprojroot.here(\"data\")\n",
    "#WindowsPath('c:/Users/elloc/Desktop/Platzi_Cookiecutter/data')\n",
    "pyprojroot.here(\"data\").joinpath(\"raw\")\n",
    "#WindowsPath('c:/Users/elloc/Desktop/Platzi_Cookiecutter/data/raw')\n"
   ]
  },
  {
   "cell_type": "code",
   "execution_count": 5,
   "metadata": {},
   "outputs": [],
   "source": [
    "import pyhere"
   ]
  },
  {
   "cell_type": "code",
   "execution_count": 7,
   "metadata": {},
   "outputs": [
    {
     "data": {
      "text/plain": [
       "WindowsPath('c:/Users/elloc/Desktop/Platzi_Cookiecutter/{{cookiecutter.project_slug}}/notebooks/../../data/raw')"
      ]
     },
     "execution_count": 7,
     "metadata": {},
     "output_type": "execute_result"
    }
   ],
   "source": [
    "#te dice a cuantas lejos estal del central . aca de 22 ../../\n",
    "pyhere.here()\n",
    "#WindowsPath('c:/Users/elloc/Desktop/Platzi_Cookiecutter/{{cookiecutter.project_slug}}/notebooks/../..')\n",
    "pyhere.here(\"data\").joinpath(\"raw\")\n",
    "#WindowsPath('c:/Users/elloc/Desktop/Platzi_Cookiecutter/{{cookiecutter.project_slug}}/notebooks/../../data/raw')\n"
   ]
  },
  {
   "cell_type": "code",
   "execution_count": 9,
   "metadata": {},
   "outputs": [
    {
     "data": {
      "text/plain": [
       "WindowsPath('C:/Users/elloc/Desktop/Platzi_Cookiecutter/data/raw')"
      ]
     },
     "execution_count": 9,
     "metadata": {},
     "output_type": "execute_result"
    }
   ],
   "source": [
    "pyhere.here().resolve()\n",
    "#WindowsPath('C:/Users/elloc/Desktop/Platzi_Cookiecutter')\n",
    "pyhere.here().resolve() /\"data\"/\"raw\"\n",
    "#WindowsPath('c:/Users/elloc/Desktop/Platzi_Cookiecutter/data/raw')\n"
   ]
  },
  {
   "cell_type": "code",
   "execution_count": 10,
   "metadata": {},
   "outputs": [],
   "source": [
    "def make_dir_function(dir_name):\n",
    "    def dir_function(*args):\n",
    "        return pyprojroot.here().joinpath(dir_name,*args)\n",
    "    return dir_function"
   ]
  },
  {
   "cell_type": "code",
   "execution_count": 38,
   "metadata": {},
   "outputs": [
    {
     "data": {
      "text/plain": [
       "<function __main__.make_dir_function.<locals>.dir_function(*args)>"
      ]
     },
     "execution_count": 38,
     "metadata": {},
     "output_type": "execute_result"
    }
   ],
   "source": [
    "data_dir=make_dir_function(\"{{cookiecutter.project_slug}}\")\n",
    "data_dir"
   ]
  },
  {
   "cell_type": "code",
   "execution_count": 36,
   "metadata": {},
   "outputs": [
    {
     "data": {
      "text/plain": [
       "True"
      ]
     },
     "execution_count": 36,
     "metadata": {},
     "output_type": "execute_result"
    }
   ],
   "source": [
    "data_dir('data','raw','.gitkeep')\n",
    "#WindowsPath('c:/Users/elloc/Desktop/Platzi_Cookiecutter/{{cookiecutter.project_slug}}/data/raw/.gitkeep')\n",
    "data_dir('data','raw','.gitkeep').exists()"
   ]
  },
  {
   "cell_type": "code",
   "execution_count": 31,
   "metadata": {},
   "outputs": [
    {
     "data": {
      "text/plain": [
       "True"
      ]
     },
     "execution_count": 31,
     "metadata": {},
     "output_type": "execute_result"
    }
   ],
   "source": [
    "data_dir('data').exists()"
   ]
  },
  {
   "cell_type": "code",
   "execution_count": 47,
   "metadata": {},
   "outputs": [
    {
     "data": {
      "text/plain": [
       "True"
      ]
     },
     "execution_count": 47,
     "metadata": {},
     "output_type": "execute_result"
    }
   ],
   "source": [
    "data_dir=make_dir_function(\"{{cookiecutter.project_slug}}\")\n",
    "dir_notebooks=data_dir(\"data\").exists()\n",
    "dir_notebooks\n"
   ]
  }
 ],
 "metadata": {
  "kernelspec": {
   "display_name": "env",
   "language": "python",
   "name": "python3"
  },
  "language_info": {
   "codemirror_mode": {
    "name": "ipython",
    "version": 3
   },
   "file_extension": ".py",
   "mimetype": "text/x-python",
   "name": "python",
   "nbconvert_exporter": "python",
   "pygments_lexer": "ipython3",
   "version": "3.11.4"
  }
 },
 "nbformat": 4,
 "nbformat_minor": 2
}
