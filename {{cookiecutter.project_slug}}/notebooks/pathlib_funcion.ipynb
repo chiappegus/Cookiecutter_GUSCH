{
 "cells": [
  {
   "cell_type": "code",
   "execution_count": 1,
   "metadata": {},
   "outputs": [
    {
     "name": "stdout",
     "output_type": "stream",
     "text": [
      "dir actual:  C:\\Users\\elloc\\Desktop\\Platzi_Cookiecutter\\{{cookiecutter.project_slug}}\\notebooks\n",
      "dir padre:  C:\\Users\\elloc\\Desktop\\Platzi_Cookiecutter\\{{cookiecutter.project_slug}}\n",
      "directorio data/raw  C:\\Users\\elloc\\Desktop\\Platzi_Cookiecutter\\{{cookiecutter.project_slug}}\\data\\raw\n",
      "directorio data/raw es un directorio ?  True\n",
      "directorio data/raw es un archivo ?  False\n",
      "directorio data/raw/.gitkeep es un directorio ?  False\n",
      "directorio data/raw/.gitkeep es un archivo ?  True\n",
      "[WindowsPath('C:/Users/elloc/Desktop/Platzi_Cookiecutter/{{cookiecutter.project_slug}}/.gitingnore'), WindowsPath('C:/Users/elloc/Desktop/Platzi_Cookiecutter/{{cookiecutter.project_slug}}/data'), WindowsPath('C:/Users/elloc/Desktop/Platzi_Cookiecutter/{{cookiecutter.project_slug}}/enviroment.yml'), WindowsPath('C:/Users/elloc/Desktop/Platzi_Cookiecutter/{{cookiecutter.project_slug}}/notebooks'), WindowsPath('C:/Users/elloc/Desktop/Platzi_Cookiecutter/{{cookiecutter.project_slug}}/Readme.md'), WindowsPath('C:/Users/elloc/Desktop/Platzi_Cookiecutter/{{cookiecutter.project_slug}}/requeriments.txt'), WindowsPath('C:/Users/elloc/Desktop/Platzi_Cookiecutter/{{cookiecutter.project_slug}}/requeriments_Py3.7.txt')]\n",
      "en el actual hay .gitkeep?  []\n",
      "en el padre  hay .gitkeep?  [WindowsPath('C:/Users/elloc/Desktop/Platzi_Cookiecutter/{{cookiecutter.project_slug}}/.gitingnore')]\n"
     ]
    }
   ],
   "source": [
    "import pathlib\n",
    "\n",
    "WindowsPath=pathlib.Path()\n",
    "\n",
    "CURRENT_DIR=WindowsPath.resolve()\n",
    "\n",
    "print('dir actual: ', CURRENT_DIR)\n",
    "\n",
    "CURRENT_PARENT=CURRENT_DIR.parent\n",
    "\n",
    "print('dir padre: ', CURRENT_PARENT)\n",
    "\n",
    "#como moverme , quiero ir a DATA/RAW\n",
    "DIR_DATA_RAW=CURRENT_DIR.parent.joinpath(\"data\" , \"raw\")\n",
    "\n",
    "print('directorio data/raw ', DIR_DATA_RAW)\n",
    "\n",
    "print('directorio data/raw es un directorio ? ', DIR_DATA_RAW.is_dir())\n",
    "print('directorio data/raw es un archivo ? ', DIR_DATA_RAW.is_file())\n",
    "\n",
    "DIR_DATA_RAW_git=CURRENT_DIR.parent.joinpath(\"data\" , \"raw\",\".gitkeep\")\n",
    "\n",
    "print('directorio data/raw/.gitkeep es un directorio ? ', DIR_DATA_RAW_git.is_dir())\n",
    "print('directorio data/raw/.gitkeep es un archivo ? ', DIR_DATA_RAW_git.is_file())\n",
    "\n",
    "#creacion de carpeta  y remove de carpeta.\n",
    "\n",
    "CURRENT_PARENT.joinpath(\"carpeta_pepe\").mkdir()\n",
    "CURRENT_PARENT.joinpath(\"carpeta_pepe\").rmdir()\n",
    "\n",
    "CURRENT_DIR.joinpath(\"carpeta_pepe\").mkdir()\n",
    "CURRENT_DIR.joinpath(\"carpeta_pepe\").rmdir()\n",
    "\n",
    "\n",
    "#listas todo del parent :\n",
    "print(list(CURRENT_PARENT.glob(\"*\")) )\n",
    "\n",
    "#listar todo del actual:\n",
    "list(CURRENT_DIR.glob(\"*\"))\n",
    "\n",
    "#buscar los que sean .git*\n",
    "print( 'en el actual hay .gitkeep? ' , list(CURRENT_DIR.glob(\"*.git*\"))    )\n",
    "\n",
    "#buscar los que sean .git*\n",
    "print( 'en el padre  hay .gitkeep? ' , list(CURRENT_PARENT.glob(\"*.git*\"))    )\n",
    "\n",
    "\n",
    "\n",
    "\n"
   ]
  }
 ],
 "metadata": {
  "kernelspec": {
   "display_name": "env",
   "language": "python",
   "name": "python3"
  },
  "language_info": {
   "codemirror_mode": {
    "name": "ipython",
    "version": 3
   },
   "file_extension": ".py",
   "mimetype": "text/x-python",
   "name": "python",
   "nbconvert_exporter": "python",
   "pygments_lexer": "ipython3",
   "version": "3.11.4"
  }
 },
 "nbformat": 4,
 "nbformat_minor": 2
}
