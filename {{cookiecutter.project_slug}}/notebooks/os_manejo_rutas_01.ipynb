{
 "cells": [
  {
   "cell_type": "code",
   "execution_count": 1,
   "metadata": {},
   "outputs": [
    {
     "data": {
      "text/plain": [
       "'c:\\\\Users\\\\gchiappe\\\\Downloads\\\\Platzi_Cookiecutter\\\\{{cookiecutter.project_slug}}\\\\notebooks'"
      ]
     },
     "execution_count": 1,
     "metadata": {},
     "output_type": "execute_result"
    }
   ],
   "source": [
    "%pwd"
   ]
  },
  {
   "cell_type": "code",
   "execution_count": 2,
   "metadata": {},
   "outputs": [
    {
     "name": "stderr",
     "output_type": "stream",
     "text": [
      "\"ls\" no se reconoce como un comando interno o externo,\n",
      "programa o archivo por lotes ejecutable.\n"
     ]
    }
   ],
   "source": [
    "!ls"
   ]
  },
  {
   "cell_type": "code",
   "execution_count": 4,
   "metadata": {},
   "outputs": [
    {
     "name": "stdout",
     "output_type": "stream",
     "text": [
      "\u001b[1;33m\u001b[0m\u001b[0m\n"
     ]
    }
   ],
   "source": [
    "%pycat ../data/raw/.gitkeep"
   ]
  },
  {
   "cell_type": "code",
   "execution_count": 3,
   "metadata": {},
   "outputs": [
    {
     "name": "stderr",
     "output_type": "stream",
     "text": [
      "UsageError: Line magic function `%cat` not found.\n"
     ]
    }
   ],
   "source": [
    "%cat ../data/raw/.gitkeep"
   ]
  },
  {
   "cell_type": "code",
   "execution_count": 28,
   "metadata": {},
   "outputs": [
    {
     "name": "stdout",
     "output_type": "stream",
     "text": [
      "c:\\Users\\gchiappe\\Downloads\\Platzi_Cookiecutter\\{{cookiecutter.project_slug}}\\notebooks\n"
     ]
    }
   ],
   "source": [
    "import os\n",
    "os.getcwd()\n",
    "#el directorio en donde estas con la notebooks\n",
    "#lo guardas en una variable CURRENT_DIR\n",
    "CURRENT_DIR=os.getcwd()\n",
    "print(CURRENT_DIR)\n",
    "\n",
    "#ahora para mover te un nivel mas bajo e ir a la carpera data/raw\n",
    "os.path.join(CURRENT_DIR,os.pardir ,\"data\",\"raw\") \n",
    "#'c:\\\\Users\\\\gchiappe\\\\Downloads\\\\Platzi_Cookiecutter\\\\{{cookiecutter.project_slug}}\\\\notebooks\\\\..\\\\data\\\\raw'\n",
    "DATA_DIR=os.path.join(CURRENT_DIR,os.pardir ,\"data\",\"raw\") \n",
    "\n",
    "DATA_DIR_DATA=os.path.join(CURRENT_DIR,os.pardir ,\"data\") \n",
    "\n",
    "DATA_DIR_FILE=os.path.join(CURRENT_DIR,os.pardir ,\"data\",\"raw\",\".gitkeep\") \n",
    "\n"
   ]
  },
  {
   "cell_type": "code",
   "execution_count": 26,
   "metadata": {},
   "outputs": [
    {
     "name": "stdout",
     "output_type": "stream",
     "text": [
      " existe ese directorio :  True\n",
      " es directorio :  True\n",
      " es directorio el gitkeep :  False\n",
      " es un archivo :  False\n",
      " es un archivo .gtkeep:  True\n"
     ]
    }
   ],
   "source": [
    "#se corrabora si existe ese directorio :\n",
    "print(' existe ese directorio : ',os.path.exists(DATA_DIR))\n",
    "# True\n",
    "#se verifica que sea un directorio :\n",
    "print(' es directorio : ' ,os.path.isdir(DATA_DIR))\n",
    "\n",
    "print(' es directorio el gitkeep : ' ,os.path.isdir(DATA_DIR_FILE))\n",
    "print(' es un archivo : ' ,os.path.isfile(DATA_DIR))\n",
    "\n",
    "print(' es un archivo .gtkeep: ' ,os.path.isfile(DATA_DIR_FILE))\n",
    "\n"
   ]
  },
  {
   "cell_type": "code",
   "execution_count": 31,
   "metadata": {},
   "outputs": [
    {
     "data": {
      "text/plain": [
       "['c:\\\\Users\\\\gchiappe\\\\Downloads\\\\Platzi_Cookiecutter\\\\{{cookiecutter.project_slug}}\\\\notebooks\\\\..\\\\data\\\\processed',\n",
       " 'c:\\\\Users\\\\gchiappe\\\\Downloads\\\\Platzi_Cookiecutter\\\\{{cookiecutter.project_slug}}\\\\notebooks\\\\..\\\\data\\\\raw']"
      ]
     },
     "execution_count": 31,
     "metadata": {},
     "output_type": "execute_result"
    }
   ],
   "source": [
    "#hace una iteracion en el carpeta DATA_DIR de los archivos , aca tiene dos archivos.\n",
    "[os.path.join(DATA_DIR_DATA,item)for item in os.listdir(DATA_DIR_DATA)]"
   ]
  },
  {
   "cell_type": "code",
   "execution_count": 32,
   "metadata": {},
   "outputs": [
    {
     "data": {
      "text/plain": [
       "['c:\\\\Users\\\\gchiappe\\\\Downloads\\\\Platzi_Cookiecutter\\\\{{cookiecutter.project_slug}}\\\\notebooks\\\\..\\\\data\\\\raw\\\\.gitkeep']"
      ]
     },
     "execution_count": 32,
     "metadata": {},
     "output_type": "execute_result"
    }
   ],
   "source": [
    "#hace una iteracion en el carpeta DATA_DIR de los archivos\n",
    "[os.path.join(DATA_DIR,item)for item in os.listdir(DATA_DIR)]"
   ]
  },
  {
   "cell_type": "code",
   "execution_count": 37,
   "metadata": {},
   "outputs": [],
   "source": [
    "#creacion de nueva carpeta :\n",
    "os.mkdir(os.path.join(DATA_DIR,\"pepe\"))"
   ]
  },
  {
   "cell_type": "code",
   "execution_count": 36,
   "metadata": {},
   "outputs": [],
   "source": [
    "#Remove de nueva carpeta :\n",
    "os.rmdir(os.path.join(DATA_DIR,\"pepe\"))"
   ]
  }
 ],
 "metadata": {
  "kernelspec": {
   "display_name": "env",
   "language": "python",
   "name": "python3"
  },
  "language_info": {
   "codemirror_mode": {
    "name": "ipython",
    "version": 3
   },
   "file_extension": ".py",
   "mimetype": "text/x-python",
   "name": "python",
   "nbconvert_exporter": "python",
   "pygments_lexer": "ipython3",
   "version": "3.7.9"
  }
 },
 "nbformat": 4,
 "nbformat_minor": 2
}
